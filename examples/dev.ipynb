{
 "cells": [
  {
   "cell_type": "code",
   "execution_count": null,
   "metadata": {},
   "outputs": [],
   "source": [
    "import sys\n",
    "import pathlib\n",
    "\n",
    "REPO_DIR = pathlib.Path(__name__).resolve().parent.parent\n",
    "SRC_DIR = str(REPO_DIR / \"src\")\n",
    "sys.path.append(SRC_DIR)\n",
    "\n",
    "import anywidget\n",
    "\n",
    "import numpy as np\n",
    "import pandas as pd\n",
    "from jupyter_paint_segment import SegmentWidget\n",
    "import cv2 as cv\n",
    "import matplotlib.pyplot as plt\n",
    "\n",
    "from plotly.express import imshow as imshow_interactive\n",
    "\n",
    "from PIL import Image, ImageColor\n",
    "import matplotlib.colors\n",
    "import io\n",
    "import skimage.io\n",
    "import base64\n",
    "import ipywidgets\n",
    "\n",
    "from jupyter_paint_segment.utils import (\n",
    "    image_to_base64str,\n",
    "    base64str_to_image,\n",
    "    rgb_to_hex_image,\n",
    ")\n",
    "\n",
    "from jupyter_paint_segment.postprocess import (\n",
    "    remove_noisy_pixels,\n",
    "    unique_image_pixels,\n",
    "    get_closest_pixel,\n",
    "    replace_image_pixel,\n",
    ")"
   ]
  },
  {
   "cell_type": "code",
   "execution_count": null,
   "metadata": {},
   "outputs": [],
   "source": [
    "path = \"../examples/images/sheeps.png\"\n",
    "# path = \"../examples/images/kitten.png\"\n",
    "\n",
    "# path = \"../examples/images/plot666.png\"\n",
    "# path = \"../examples/images/plot61.png\"\n",
    "# path = \"../examples/images/windows-11-dark-background-bloom-5k-3840x2160-8403.png\"\n",
    "\n",
    "\n",
    "# image_bgr = cv.imread(path)\n",
    "# image = cv.cvtColor(image_bgr, cv.COLOR_BGR2RGB)\n",
    "\n",
    "# image = cv.imread(path, cv.IMREAD_GRAYSCALE)\n",
    "\n",
    "pilImage = Image.open(path)\n",
    "image = np.array(pilImage)\n",
    "\n",
    "# image = skimage.io.imread(path)"
   ]
  },
  {
   "cell_type": "code",
   "execution_count": null,
   "metadata": {},
   "outputs": [],
   "source": [
    "# labels = [\"lol\", \"kek\", \"axaxaxa\", \"lddtynykfld kfld g\", \"dogg\", \"cat\", \"ROI\", \"restricted area\",\n",
    "#           \"ssss\", \"dcdvfdvfs\", \"aaaaaaaaa\"]\n",
    "labels = [\"sheep\", \"dog\", \"lol\"]\n",
    "# labels = [\"sheep\"]\n",
    "\n",
    "widget = SegmentWidget(\n",
    "    image=image,\n",
    "    labels=labels,\n",
    "    # colors=[\"red\", \"blue\"],\n",
    "    image_scale=1,\n",
    ")\n",
    "widget"
   ]
  },
  {
   "cell_type": "code",
   "execution_count": null,
   "metadata": {},
   "outputs": [],
   "source": [
    "%%time\n",
    "labels_array, labels_map = widget.segmentation_result()"
   ]
  },
  {
   "cell_type": "code",
   "execution_count": null,
   "metadata": {},
   "outputs": [],
   "source": [
    "labels_map"
   ]
  },
  {
   "cell_type": "code",
   "execution_count": null,
   "metadata": {},
   "outputs": [],
   "source": [
    "np.unique(labels_array)"
   ]
  },
  {
   "cell_type": "code",
   "execution_count": null,
   "metadata": {},
   "outputs": [],
   "source": [
    "labels_array.shape"
   ]
  },
  {
   "cell_type": "code",
   "execution_count": null,
   "metadata": {},
   "outputs": [],
   "source": [
    "plt.imshow(labels_array)"
   ]
  },
  {
   "cell_type": "code",
   "execution_count": null,
   "metadata": {},
   "outputs": [],
   "source": [
    "%%time\n",
    "np.unique(drawing_rgb.reshape((-1, 3)), axis=0)"
   ]
  },
  {
   "cell_type": "code",
   "execution_count": null,
   "metadata": {},
   "outputs": [],
   "source": [
    "%%time\n",
    "drawing_rgb = widget._postprocess_drawing(widget._drawing_rgb)\n"
   ]
  },
  {
   "cell_type": "code",
   "execution_count": null,
   "metadata": {},
   "outputs": [],
   "source": [
    "%%time\n",
    "reshaped_image = widget._drawing_rgb.reshape(-1, 3)"
   ]
  },
  {
   "cell_type": "code",
   "execution_count": null,
   "metadata": {},
   "outputs": [],
   "source": [
    "reshaped_image.shape"
   ]
  },
  {
   "cell_type": "code",
   "execution_count": null,
   "metadata": {},
   "outputs": [],
   "source": [
    "%%time\n",
    "np.unique(reshaped_image, axis=0)"
   ]
  },
  {
   "cell_type": "code",
   "execution_count": null,
   "metadata": {},
   "outputs": [],
   "source": [
    "%%time\n",
    "pd.DataFrame(reshaped_image).drop_duplicates().to_numpy()"
   ]
  },
  {
   "cell_type": "code",
   "execution_count": null,
   "metadata": {},
   "outputs": [],
   "source": []
  },
  {
   "cell_type": "code",
   "execution_count": null,
   "metadata": {},
   "outputs": [],
   "source": [
    "labels_array = np.zeros_like(drawing_rgb[:, :, 0], dtype=np.int64)"
   ]
  },
  {
   "cell_type": "code",
   "execution_count": null,
   "metadata": {},
   "outputs": [],
   "source": [
    "# for pixel_value in widget._allowed_colors_rgb:\n",
    "# pixel_value = tuple(np.array([ 44, 160,  44], dtype=np.uint8))\n",
    "pixel_value = tuple(np.array([ 1, 34,  11], dtype=np.uint8))\n",
    "pixel_value"
   ]
  },
  {
   "cell_type": "code",
   "execution_count": null,
   "metadata": {},
   "outputs": [],
   "source": [
    "pixel_r, pixel_g, pixel_b = pixel_value\n",
    "\n",
    "pixel_indexes = np.where(\n",
    "    (drawing_rgb[:, :, 0] == pixel_r)\n",
    "    & (drawing_rgb[:, :, 1] == pixel_g)\n",
    "    & (drawing_rgb[:, :, 2] == pixel_b)\n",
    ")"
   ]
  },
  {
   "cell_type": "code",
   "execution_count": null,
   "metadata": {},
   "outputs": [],
   "source": [
    "pixel_indexes"
   ]
  },
  {
   "cell_type": "code",
   "execution_count": null,
   "metadata": {},
   "outputs": [],
   "source": [
    "y, x = pixel_indexes"
   ]
  },
  {
   "cell_type": "code",
   "execution_count": null,
   "metadata": {},
   "outputs": [],
   "source": []
  },
  {
   "cell_type": "code",
   "execution_count": null,
   "metadata": {},
   "outputs": [],
   "source": [
    "# labels_array[y, x] = map_color_rgb_label_num[pixel_value]\n",
    "labels_array[y, x] = 55"
   ]
  },
  {
   "cell_type": "code",
   "execution_count": null,
   "metadata": {},
   "outputs": [],
   "source": []
  },
  {
   "cell_type": "code",
   "execution_count": null,
   "metadata": {},
   "outputs": [],
   "source": [
    "label_numbers = list(range(1, len(widget._colors) + 1))\n",
    "label_numbers.append(0)\n",
    "label_numbers"
   ]
  },
  {
   "cell_type": "code",
   "execution_count": null,
   "metadata": {},
   "outputs": [],
   "source": [
    "tuple(allowed_pixel)"
   ]
  },
  {
   "cell_type": "code",
   "execution_count": null,
   "metadata": {},
   "outputs": [],
   "source": [
    "allowed_colors_rgb_as_tuple = [tuple(pixel) for pixel in widget._allowed_colors_rgb]\n",
    "\n",
    "map_color_rgb_label_num = dict(zip(allowed_colors_rgb_as_tuple, label_numbers))\n",
    "map_color_rgb_label_num"
   ]
  },
  {
   "cell_type": "code",
   "execution_count": null,
   "metadata": {},
   "outputs": [],
   "source": []
  },
  {
   "cell_type": "code",
   "execution_count": null,
   "metadata": {},
   "outputs": [],
   "source": [
    "%%time\n",
    "a, b = widget.segmentation_result()"
   ]
  },
  {
   "cell_type": "code",
   "execution_count": null,
   "metadata": {},
   "outputs": [],
   "source": []
  },
  {
   "cell_type": "code",
   "execution_count": null,
   "metadata": {},
   "outputs": [],
   "source": [
    "%%time\n",
    "drawing_rgb = widget._postprocess_drawing(widget._drawing_rgb)\n",
    "# < validation here >\n",
    " \n",
    "labels_array = np.zeros_like(drawing_rgb[:, :, 0], dtype=np.int64)\n",
    "label_numbers = list(range(1, len(widget._colors) + 1))  # TODO: @property\n",
    "label_numbers.append(0)\n",
    "\n",
    "allowed_colors_rgb_as_tuple = [tuple(pixel) for pixel in widget._allowed_colors_rgb]\n",
    "map_color_rgb_label_num = dict(zip(allowed_colors_rgb_as_tuple, label_numbers))\n",
    "\n",
    "for pixel_value in allowed_colors_rgb_as_tuple:\n",
    "    \n",
    "    pixel_r, pixel_g, pixel_b = pixel_value\n",
    "\n",
    "    pixel_indexes = np.where(\n",
    "        (drawing_rgb[:, :, 0] == pixel_r)\n",
    "        & (drawing_rgb[:, :, 1] == pixel_g)\n",
    "        & (drawing_rgb[:, :, 2] == pixel_b)\n",
    "    )\n",
    "    y, x = pixel_indexes\n",
    "    \n",
    "    labels_array[y, x] = map_color_rgb_label_num[pixel_value]\n",
    "    "
   ]
  },
  {
   "cell_type": "code",
   "execution_count": null,
   "metadata": {},
   "outputs": [],
   "source": [
    "plt.imshow(labels_array)"
   ]
  },
  {
   "cell_type": "code",
   "execution_count": null,
   "metadata": {},
   "outputs": [],
   "source": [
    "np.all(a == labels_array)"
   ]
  },
  {
   "cell_type": "code",
   "execution_count": null,
   "metadata": {},
   "outputs": [],
   "source": []
  },
  {
   "cell_type": "code",
   "execution_count": null,
   "metadata": {},
   "outputs": [],
   "source": []
  },
  {
   "cell_type": "code",
   "execution_count": null,
   "metadata": {},
   "outputs": [],
   "source": [
    "plt.imshow(labels_array)"
   ]
  },
  {
   "cell_type": "code",
   "execution_count": null,
   "metadata": {},
   "outputs": [],
   "source": []
  },
  {
   "cell_type": "code",
   "execution_count": null,
   "metadata": {},
   "outputs": [],
   "source": []
  },
  {
   "cell_type": "code",
   "execution_count": null,
   "metadata": {},
   "outputs": [],
   "source": []
  },
  {
   "cell_type": "code",
   "execution_count": null,
   "metadata": {},
   "outputs": [],
   "source": [
    "%%time\n",
    "img = widget._drawing_rgb"
   ]
  },
  {
   "cell_type": "code",
   "execution_count": null,
   "metadata": {},
   "outputs": [],
   "source": [
    "%%time\n",
    "img_post = widget._postprocess_drawing(img)"
   ]
  },
  {
   "cell_type": "code",
   "execution_count": null,
   "metadata": {},
   "outputs": [],
   "source": [
    "%%time\n",
    "widget._validate_drawing(img_post)"
   ]
  },
  {
   "cell_type": "code",
   "execution_count": null,
   "metadata": {},
   "outputs": [],
   "source": [
    "%%time\n",
    "drawing_hex_array = rgb_to_hex_image(img_post)"
   ]
  },
  {
   "cell_type": "code",
   "execution_count": null,
   "metadata": {},
   "outputs": [],
   "source": [
    "%%time\n",
    "drawing_colors_set = set(np.unique(drawing_hex_array))"
   ]
  },
  {
   "cell_type": "code",
   "execution_count": null,
   "metadata": {},
   "outputs": [],
   "source": [
    "%%time\n",
    "pixel_indexes = np.where(\n",
    "        (img_post[:, :, 0] == 0)\n",
    "        & (img_post[:, :, 1] == 0)\n",
    "        & (img_post[:, :, 2] == 0)\n",
    "    )"
   ]
  },
  {
   "cell_type": "code",
   "execution_count": null,
   "metadata": {},
   "outputs": [],
   "source": [
    "mask = np.all(img_post == np.array([0, 0, 0]), axis=-1)"
   ]
  },
  {
   "cell_type": "code",
   "execution_count": null,
   "metadata": {},
   "outputs": [],
   "source": [
    "%%time\n",
    "indexes2 = np.where( np.all(img_post == np.array([0, 0, 0]), axis=-1) )"
   ]
  },
  {
   "cell_type": "code",
   "execution_count": null,
   "metadata": {},
   "outputs": [],
   "source": [
    "np.all(indexes2[1] == pixel_indexes[1])"
   ]
  },
  {
   "cell_type": "code",
   "execution_count": null,
   "metadata": {},
   "outputs": [],
   "source": [
    "pixel_indexes"
   ]
  },
  {
   "cell_type": "code",
   "execution_count": null,
   "metadata": {},
   "outputs": [],
   "source": [
    "np.array([1,2])"
   ]
  },
  {
   "cell_type": "code",
   "execution_count": null,
   "metadata": {},
   "outputs": [],
   "source": [
    "unique_image_pixels(img_post)"
   ]
  },
  {
   "cell_type": "code",
   "execution_count": null,
   "metadata": {},
   "outputs": [],
   "source": [
    "mapa = {(0, 0, 0): 0, (44, 160, 44): 1}\n",
    "\n",
    "func0 = np.vectorize(tuple)\n",
    "func = np.vectorize(mapa.get)"
   ]
  },
  {
   "cell_type": "code",
   "execution_count": null,
   "metadata": {},
   "outputs": [],
   "source": [
    "%%time\n",
    "ss = func0(img_post)"
   ]
  },
  {
   "cell_type": "code",
   "execution_count": null,
   "metadata": {},
   "outputs": [],
   "source": [
    "labels_array2"
   ]
  },
  {
   "cell_type": "code",
   "execution_count": null,
   "metadata": {},
   "outputs": [],
   "source": []
  },
  {
   "cell_type": "code",
   "execution_count": null,
   "metadata": {},
   "outputs": [],
   "source": [
    "tmp = np.array([\n",
    "    [[255, 0, 0], [0, 255, 0], [0, 0, 255], [250, 70, 8]],\n",
    "    [[255, 255, 0], [255, 0, 255], [0, 255, 255], [128, 90, 67]],\n",
    "    [[0, 0, 0], [255, 255, 255], [128, 128, 128], [0, 0, 0]],\n",
    "    [[0, 0, 0], [0, 0, 0], [50, 50, 50], [30, 30, 30]],\n",
    "    [[0, 0, 0], [0, 0, 0], [50, 50, 50], [255, 255, 255]]\n",
    "])"
   ]
  },
  {
   "cell_type": "code",
   "execution_count": null,
   "metadata": {},
   "outputs": [],
   "source": [
    "tmp.shape"
   ]
  },
  {
   "cell_type": "code",
   "execution_count": null,
   "metadata": {},
   "outputs": [],
   "source": [
    "plt.imshow(tmp)"
   ]
  },
  {
   "cell_type": "code",
   "execution_count": null,
   "metadata": {},
   "outputs": [],
   "source": []
  },
  {
   "cell_type": "code",
   "execution_count": null,
   "metadata": {},
   "outputs": [],
   "source": []
  },
  {
   "cell_type": "code",
   "execution_count": null,
   "metadata": {},
   "outputs": [],
   "source": [
    "%%time\n",
    "labels_array, labels_map = widget.segmentation_result()"
   ]
  },
  {
   "cell_type": "code",
   "execution_count": null,
   "metadata": {},
   "outputs": [],
   "source": []
  },
  {
   "cell_type": "code",
   "execution_count": null,
   "metadata": {},
   "outputs": [],
   "source": [
    "%%time\n",
    "unique_image_pixels(widget._drawing_rgb)"
   ]
  },
  {
   "cell_type": "code",
   "execution_count": null,
   "metadata": {},
   "outputs": [],
   "source": [
    "%%time\n",
    "np.unique(labels_array)"
   ]
  },
  {
   "cell_type": "code",
   "execution_count": null,
   "metadata": {},
   "outputs": [],
   "source": [
    "plt.imshow(labels_array)"
   ]
  },
  {
   "cell_type": "code",
   "execution_count": null,
   "metadata": {},
   "outputs": [],
   "source": [
    "imshow_interactive(labels_array)"
   ]
  },
  {
   "cell_type": "code",
   "execution_count": null,
   "metadata": {},
   "outputs": [],
   "source": []
  },
  {
   "cell_type": "code",
   "execution_count": null,
   "metadata": {},
   "outputs": [],
   "source": []
  },
  {
   "cell_type": "code",
   "execution_count": null,
   "metadata": {},
   "outputs": [],
   "source": [
    "%%time\n",
    "unique_image_pixels(widget._drawing_rgb)"
   ]
  },
  {
   "cell_type": "code",
   "execution_count": null,
   "metadata": {},
   "outputs": [],
   "source": [
    "%%time\n",
    "res = remove_noisy_pixels(\n",
    "        widget._drawing_rgb,\n",
    "        widget._allowed_colors_rgb\n",
    "    )"
   ]
  },
  {
   "cell_type": "code",
   "execution_count": null,
   "metadata": {},
   "outputs": [],
   "source": [
    "unique_image_pixels(\n",
    "    res\n",
    ")"
   ]
  },
  {
   "cell_type": "code",
   "execution_count": null,
   "metadata": {},
   "outputs": [],
   "source": []
  },
  {
   "cell_type": "code",
   "execution_count": null,
   "metadata": {},
   "outputs": [],
   "source": [
    "widget._colors"
   ]
  },
  {
   "cell_type": "code",
   "execution_count": null,
   "metadata": {},
   "outputs": [],
   "source": [
    "widget._allowed_colors_hex"
   ]
  },
  {
   "cell_type": "code",
   "execution_count": null,
   "metadata": {},
   "outputs": [],
   "source": [
    "widget._allowed_colors_rgb"
   ]
  },
  {
   "cell_type": "code",
   "execution_count": null,
   "metadata": {},
   "outputs": [],
   "source": [
    "unique_image_pixels(widget._drawing_rgb)"
   ]
  },
  {
   "cell_type": "code",
   "execution_count": null,
   "metadata": {},
   "outputs": [],
   "source": [
    "res = remove_noisy_pixels(widget._drawing_rgb, widget._allowed_colors_rgb)"
   ]
  },
  {
   "cell_type": "code",
   "execution_count": null,
   "metadata": {},
   "outputs": [],
   "source": []
  },
  {
   "cell_type": "code",
   "execution_count": null,
   "metadata": {},
   "outputs": [],
   "source": [
    "image_rgb = widget._drawing_rgb\n",
    "obtained_pixels = unique_image_pixels(image_rgb)\n",
    "\n",
    "for pixel in obtained_pixels:\n",
    "    closest_allowed_pixel = get_closest_pixel(pixel, widget._allowed_colors_rgb)\n",
    "    print(pixel, closest_allowed_pixel)\n",
    "\n",
    "    image_rgb = replace_image_pixel(\n",
    "        image_rgb=image_rgb,\n",
    "        source_pixel=pixel,\n",
    "        target_pixel=closest_allowed_pixel,\n",
    "    )"
   ]
  },
  {
   "cell_type": "code",
   "execution_count": null,
   "metadata": {},
   "outputs": [],
   "source": [
    "unique_image_pixels(image_rgb)"
   ]
  },
  {
   "cell_type": "code",
   "execution_count": null,
   "metadata": {},
   "outputs": [],
   "source": []
  },
  {
   "cell_type": "code",
   "execution_count": null,
   "metadata": {},
   "outputs": [],
   "source": []
  },
  {
   "cell_type": "code",
   "execution_count": null,
   "metadata": {},
   "outputs": [],
   "source": [
    "labels_array, labels_map = widget.segmentation_result()\n",
    "# np.unique(res)\n",
    "# res"
   ]
  },
  {
   "cell_type": "code",
   "execution_count": null,
   "metadata": {},
   "outputs": [],
   "source": [
    "labels_array.dtype"
   ]
  },
  {
   "cell_type": "code",
   "execution_count": null,
   "metadata": {},
   "outputs": [],
   "source": [
    "drawing_rgb = base64str_to_image(widget._drawing_base64)"
   ]
  },
  {
   "cell_type": "code",
   "execution_count": null,
   "metadata": {},
   "outputs": [],
   "source": [
    "rgb_to_hex_image(drawing_rgb)"
   ]
  },
  {
   "cell_type": "code",
   "execution_count": null,
   "metadata": {},
   "outputs": [],
   "source": [
    "a = np.array([\"lol\"], dtype=np.str_)\n",
    "a"
   ]
  },
  {
   "cell_type": "code",
   "execution_count": null,
   "metadata": {},
   "outputs": [],
   "source": [
    "type(np.str_)"
   ]
  },
  {
   "cell_type": "code",
   "execution_count": null,
   "metadata": {},
   "outputs": [],
   "source": [
    "plt.imshow(labels_array)"
   ]
  },
  {
   "cell_type": "code",
   "execution_count": null,
   "metadata": {},
   "outputs": [],
   "source": [
    "obtained_pixels = unique_image_pixels(\n",
    "    drawing_rgb,\n",
    "    # return_counts=True,\n",
    ")\n",
    "obtained_pixels"
   ]
  },
  {
   "cell_type": "code",
   "execution_count": null,
   "metadata": {},
   "outputs": [],
   "source": [
    "allowed_drawing_pixels = np.array([[  0,   0,   0],\n",
    "                                   [255,  0,   0],\n",
    "                                   [0, 0, 255]])\n",
    "\n",
    "allowed_drawing_pixels"
   ]
  },
  {
   "cell_type": "code",
   "execution_count": null,
   "metadata": {},
   "outputs": [],
   "source": [
    "def get_closest_pixel(target_pixel: np.ndarray, pixels_set: np.ndarray) -> np.ndarray:\n",
    "    \"\"\"\n",
    "    Return closest pixel to target_pixel from a pixel_set.\n",
    "    \n",
    "    :param pixel: array, shape=(3,)\n",
    "    :param pixel_set: array, shape=(N, 3)\n",
    "    :return: array, shape=(3,)\n",
    "    \"\"\"\n",
    "    target_pixel = target_pixel.copy().astype(np.int64)\n",
    "    pixels_set = pixels_set.copy().astype(np.int64)\n",
    "\n",
    "    diff_rgb = pixels_set - target_pixel\n",
    "    diff = np.linalg.norm(diff_rgb, axis=1)\n",
    "    closest_index = diff.argmin()\n",
    "    return pixels_set[closest_index].astype(np.uint8)"
   ]
  },
  {
   "cell_type": "code",
   "execution_count": null,
   "metadata": {},
   "outputs": [],
   "source": [
    "def replace_image_pixel(\n",
    "    image_rgb: np.ndarray,\n",
    "    source_pixel: np.ndarray,\n",
    "    target_pixel: np.ndarray,\n",
    ") -> None:\n",
    "    \"\"\"\n",
    "    Replace all source_pixel values on RGB image with target_pixel values.\n",
    "    Changes input image_rgb array (!).\n",
    "\n",
    "    :param image_rgb: rgb array, shape=(N, M, 3)\n",
    "    :param source_pixel: pixel value array, shape=(3,)\n",
    "    :param target_pixel: pixel value array, shape=(3,)\n",
    "    \"\"\"\n",
    "    # image = np.copy(image_rgb)\n",
    "    image = image_rgb\n",
    "    \n",
    "    source_pixel_r = source_pixel[0]\n",
    "    source_pixel_g = source_pixel[1]\n",
    "    source_pixel_b = source_pixel[2]\n",
    "    \n",
    "    target_pixel_r = target_pixel[0]\n",
    "    target_pixel_g = target_pixel[1]\n",
    "    target_pixel_b = target_pixel[2]\n",
    "\n",
    "    source_pixel_indexes = np.where(\n",
    "        (image[:, :, 0] == source_pixel_r) & \n",
    "        (image[:, :, 1] == source_pixel_g) & \n",
    "        (image[:, :, 2] == source_pixel_b)\n",
    "    )\n",
    "    y, x = source_pixel_indexes\n",
    "    image[y, x, 0] = target_pixel_r\n",
    "    image[y, x, 1] = target_pixel_g\n",
    "    image[y, x, 2] = target_pixel_b\n",
    "\n",
    "    # return image"
   ]
  },
  {
   "cell_type": "code",
   "execution_count": null,
   "metadata": {},
   "outputs": [],
   "source": [
    "drawing_rgb = widget._base64str_to_image(widget._drawing_base64)\n",
    "obtained_pixels = unique_image_pixels(drawing_rgb)\n",
    "\n",
    "for pixel in obtained_pixels:\n",
    "    closest_allowed_pixel = get_closest_pixel(pixel, allowed_drawing_pixels)    \n",
    "    print(pixel, closest_allowed_pixel)\n",
    "\n",
    "    replace_image_pixel(\n",
    "        image_rgb=drawing_rgb,\n",
    "        source_pixel=pixel,\n",
    "        target_pixel=closest_allowed_pixel,\n",
    "    )\n",
    "    \n",
    "    # drawing_rgb[ np.where(image == pixel) ] = closest_allowed_pixel  # TODO: chec"
   ]
  },
  {
   "cell_type": "code",
   "execution_count": null,
   "metadata": {},
   "outputs": [],
   "source": [
    "plt.imshow(drawing_rgb)"
   ]
  },
  {
   "cell_type": "code",
   "execution_count": null,
   "metadata": {},
   "outputs": [],
   "source": [
    "unique_image_pixels(drawing_rgb)"
   ]
  },
  {
   "cell_type": "code",
   "execution_count": null,
   "metadata": {},
   "outputs": [],
   "source": []
  },
  {
   "cell_type": "code",
   "execution_count": null,
   "metadata": {},
   "outputs": [],
   "source": []
  },
  {
   "cell_type": "code",
   "execution_count": null,
   "metadata": {},
   "outputs": [],
   "source": [
    "# new = replace_image_pixel(\n",
    "#     image_rgb=drawing_rgb,\n",
    "#     source_pixel=[0, 0, 0],\n",
    "#     target_pixel=[0, 255, 255],\n",
    "# )"
   ]
  },
  {
   "cell_type": "code",
   "execution_count": null,
   "metadata": {},
   "outputs": [],
   "source": [
    "plt.imshow(new)"
   ]
  },
  {
   "cell_type": "code",
   "execution_count": null,
   "metadata": {},
   "outputs": [],
   "source": [
    "# imshow_interactive(new)"
   ]
  },
  {
   "cell_type": "code",
   "execution_count": null,
   "metadata": {},
   "outputs": [],
   "source": [
    "np.linalg.norm(\n",
    "    np.array([0, 0, 0]) - np.array([0, 1, 0])\n",
    ")\n",
    "\n",
    "np.linalg.norm(\n",
    "    np.array([255, 0, 0]) - np.array([0, 1, 0])\n",
    ")"
   ]
  },
  {
   "cell_type": "code",
   "execution_count": null,
   "metadata": {},
   "outputs": [],
   "source": [
    "np.linalg.norm(\n",
    "    np.array([255, 0, 0]) - np.array([0, 1, 0])\n",
    ")\n",
    "\n",
    "np.array([[255, 0, 0], [1, 0, 0], [0, 1, 0]]) - np.array([0, 1, 0])"
   ]
  },
  {
   "cell_type": "code",
   "execution_count": null,
   "metadata": {},
   "outputs": [],
   "source": [
    "np.linalg.norm(\n",
    "    np.array([\n",
    "       [255,  -1,   0],\n",
    "       [  1,  -1,   0],\n",
    "       [  0,   0,   0],\n",
    "       [  0,   0,   2],\n",
    "       [  0,   0,   3],\n",
    "    ]), axis=1\n",
    ")"
   ]
  },
  {
   "cell_type": "code",
   "execution_count": null,
   "metadata": {},
   "outputs": [],
   "source": [
    "# def replace_image_pixel(image_rgb: ImageLike, value: int = 10) -> ImageLike:\n",
    "#     \"\"\"\n",
    "#     Replace all [0, 0, 0] pixels on RGB image with [value, value, value] pixels\n",
    "#     \"\"\"\n",
    "#     image = np.copy(image_rgb)\n",
    "\n",
    "#     if len(image.shape) == 3:\n",
    "#         zero_indexes = np.where(\n",
    "#             (image[:, :, 0] == 0) & (image[:, :, 1] == 0) & (image[:, :, 2] == 0)\n",
    "#         )\n",
    "#         y, x = zero_indexes\n",
    "#         image[y, x, :] = value\n",
    "#     elif len(image.shape) == 2:\n",
    "#         # logger.warning(\"Image is 1-channel\")\n",
    "#         zero_indexes = np.where(image == 0)\n",
    "#         y, x = zero_indexes\n",
    "#         image[y, x] = value\n",
    "\n",
    "#     logger.debug(f\"Number of black pixels on image: {len(zero_indexes[0])}\")\n",
    "#     return image"
   ]
  },
  {
   "cell_type": "code",
   "execution_count": null,
   "metadata": {},
   "outputs": [],
   "source": [
    "drawing_rgb.shape"
   ]
  },
  {
   "cell_type": "code",
   "execution_count": null,
   "metadata": {},
   "outputs": [],
   "source": []
  },
  {
   "cell_type": "code",
   "execution_count": null,
   "metadata": {},
   "outputs": [],
   "source": [
    "np.array([[1, 2, 3], [1, 2, 3]]).shape"
   ]
  },
  {
   "cell_type": "code",
   "execution_count": null,
   "metadata": {},
   "outputs": [],
   "source": [
    "### API:\n",
    "\n",
    "# w = SegmentWidget(\n",
    "#     image=image,\n",
    "#     n_labels=3,\n",
    "#     colors=[\"red\", \"yellow\", \"green\"],\n",
    "#     titles=[\"lol\", \"kek\", \"axaxaxa\"],\n",
    "#     image_scale=1.2,\n",
    "# )"
   ]
  },
  {
   "cell_type": "code",
   "execution_count": null,
   "metadata": {},
   "outputs": [],
   "source": [
    "import anywidget\n",
    "import traitlets\n",
    "\n",
    "class CounterWidget(anywidget.AnyWidget):\n",
    "    _esm = \"\"\"\n",
    "    function render({ model, el }) {\n",
    "      let button = document.createElement(\"button\");\n",
    "      button.innerHTML = `count is ${model.get(\"value\")}`;\n",
    "      button.addEventListener(\"click\", () => {\n",
    "        model.set(\"value\", model.get(\"value\") + 1);\n",
    "        model.save_changes();\n",
    "      });\n",
    "      model.on(\"change:value\", () => {\n",
    "        button.innerHTML = `count is ${model.get(\"value\")}`;\n",
    "      });\n",
    "      el.classList.add(\"counter-widget\");\n",
    "      el.appendChild(button);\n",
    "    }\n",
    "    export default { render };\n",
    "    \"\"\"\n",
    "    _css = \"\"\"\n",
    "    .counter-widget button { color: white; font-size: 1.75rem; background-color: #ea580c; padding: 0.5rem 1rem; border: none; border-radius: 0.25rem; }\n",
    "    .counter-widget button:hover { background-color: #9a3412; }\n",
    "    \"\"\"\n",
    "    value = traitlets.Int(0).tag(sync=True)"
   ]
  },
  {
   "cell_type": "code",
   "execution_count": null,
   "metadata": {},
   "outputs": [],
   "source": [
    "CounterWidget(value=42)"
   ]
  },
  {
   "cell_type": "code",
   "execution_count": null,
   "metadata": {},
   "outputs": [],
   "source": []
  },
  {
   "cell_type": "code",
   "execution_count": null,
   "metadata": {},
   "outputs": [],
   "source": [
    "# colors = [\n",
    "#     '#2ca02c',\n",
    "#     '#d62728',\n",
    "#     '#fefe00',\n",
    "#     '#1f77b4',\n",
    "#     '#ff7f0e',\n",
    "#     '#17becf',\n",
    "#     '#9467bd',\n",
    "#     '#8c564b',\n",
    "#     '#e377c2',\n",
    "#     '#7f7f7f',\n",
    "#     '#bcbd22',\n",
    "# ]\n",
    "\n",
    "colors = [\n",
    "    '#2ca02c',  # cooked asparagus green\n",
    "    '#d62728',  # brick red\n",
    "    '#fefe00',  # yellow\n",
    "    '#1f77b4',  # muted blue\n",
    "    '#ff7f0e',  # safety orange\n",
    "    '#9467bd',  # muted purple\n",
    "    '#8c564b',  # chestnut brown\n",
    "    '#17becf',  # blue-teal\n",
    "    '#e377c2',  # raspberry yogurt pink\n",
    "    '#7f7f7f',  # middle gray\n",
    "    '#bcbd22',  # curry yellow-green\n",
    "]\n",
    "\n",
    "# ['#1f77b4', '#ff7f0e', '#2ca02c', '#d62728', '#9467bd', '#8c564b', '#e377c2', '#7f7f7f', '#bcbd22', '#17becf']"
   ]
  },
  {
   "cell_type": "code",
   "execution_count": null,
   "metadata": {},
   "outputs": [],
   "source": [
    "for i, color in enumerate(colors):\n",
    "    plt.vlines(x=i, ymin=1, ymax=10, color=color, lw=10)"
   ]
  },
  {
   "cell_type": "code",
   "execution_count": null,
   "metadata": {},
   "outputs": [],
   "source": [
    "# colors = [\n",
    "#     '#1f77b4',  # // muted blue\n",
    "#     '#ff7f0e',  # // safety orange\n",
    "#     '#2ca02c',  # // cooked asparagus green\n",
    "#     '#d62728',  # // brick red\n",
    "#     '#9467bd',  # // muted purple\n",
    "#     '#8c564b',  # // chestnut brown\n",
    "#     '#e377c2',  # // raspberry yogurt pink\n",
    "#     '#7f7f7f',  # // middle gray\n",
    "#     '#bcbd22',  # // curry yellow-green\n",
    "#     '#17becf'   # // blue-teal\n",
    "# ]"
   ]
  },
  {
   "cell_type": "code",
   "execution_count": null,
   "metadata": {},
   "outputs": [],
   "source": [
    "# for i, color in enumerate(colors):\n",
    "#     plt.vlines(x=i, ymin=1, ymax=10, color=color, lw=10)"
   ]
  },
  {
   "cell_type": "code",
   "execution_count": null,
   "metadata": {},
   "outputs": [],
   "source": []
  },
  {
   "cell_type": "code",
   "execution_count": null,
   "metadata": {},
   "outputs": [],
   "source": []
  },
  {
   "cell_type": "code",
   "execution_count": null,
   "metadata": {},
   "outputs": [],
   "source": [
    "image_pil = Image.open(io.BytesIO(base64_decoded))\n",
    "# image = np.array(image_pil)\n",
    "image_pil"
   ]
  },
  {
   "cell_type": "code",
   "execution_count": null,
   "metadata": {},
   "outputs": [],
   "source": []
  },
  {
   "cell_type": "code",
   "execution_count": null,
   "metadata": {},
   "outputs": [],
   "source": []
  },
  {
   "cell_type": "code",
   "execution_count": null,
   "metadata": {},
   "outputs": [],
   "source": []
  },
  {
   "cell_type": "code",
   "execution_count": null,
   "metadata": {},
   "outputs": [],
   "source": []
  }
 ],
 "metadata": {
  "kernelspec": {
   "display_name": "jupyter-paint-label-Rso1XXbr-py3.11",
   "language": "python",
   "name": "python3"
  },
  "language_info": {
   "codemirror_mode": {
    "name": "ipython",
    "version": 3
   },
   "file_extension": ".py",
   "mimetype": "text/x-python",
   "name": "python",
   "nbconvert_exporter": "python",
   "pygments_lexer": "ipython3",
   "version": "3.11.2"
  }
 },
 "nbformat": 4,
 "nbformat_minor": 4
}
